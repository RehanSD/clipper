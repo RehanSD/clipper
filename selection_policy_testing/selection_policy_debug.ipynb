{
 "cells": [
  {
   "cell_type": "code",
   "execution_count": 19,
   "metadata": {},
   "outputs": [
    {
     "name": "stderr",
     "output_type": "stream",
     "text": [
      "18-07-06:19:54:34 INFO     [docker_container_manager.py:119] Starting managed Redis instance in Docker\n",
      "18-07-06:19:54:38 INFO     [clipper_admin.py:126] Clipper is running\n",
      "18-07-06:19:54:38 ERROR    [clipper_admin.py:179] HELLO\n",
      "18-07-06:19:54:38 INFO     [clipper_admin.py:190] {\"name\": \"xgboost-test\", \"input_type\": \"integers\", \"selection_policy\": \"enemble\", \"latency_slo_micros\": 1000000000}\n",
      "18-07-06:19:54:38 INFO     [clipper_admin.py:201] Application xgboost-test was successfully registered\n"
     ]
    }
   ],
   "source": [
    "import os\n",
    "import sys\n",
    "cur_dir = os.path.dirname(os.path.abspath('__file__'))\n",
    "sys.path.insert(0, os.path.abspath(\"%s/../clipper_admin\" % cur_dir))\n",
    "import logging, xgboost as xgb, numpy as np\n",
    "from clipper_admin import ClipperConnection, DockerContainerManager\n",
    "cl = ClipperConnection(DockerContainerManager())\n",
    "cl.start_clipper()\n",
    "# We will register it to deploy an xgboost model.\n",
    "cl.register_application('xgboost-test', 'integers', 1000000000, 'enemble')"
   ]
  },
  {
   "cell_type": "code",
   "execution_count": 20,
   "metadata": {},
   "outputs": [
    {
     "name": "stdout",
     "output_type": "stream",
     "text": [
      "[0]\ttrain-error:0\n",
      "[1]\ttrain-error:0\n"
     ]
    },
    {
     "name": "stderr",
     "output_type": "stream",
     "text": [
      "18-07-06:19:54:38 INFO     [deployer_utils.py:44] Saving function to /tmp/clipper/tmpjr5_iq_l\n",
      "18-07-06:19:54:38 INFO     [deployer_utils.py:54] Serialized and supplied predict function\n",
      "18-07-06:19:54:38 INFO     [python.py:192] Python closure saved\n",
      "18-07-06:19:54:38 INFO     [python.py:206] Using Python 3.6 base image\n",
      "18-07-06:19:54:38 INFO     [clipper_admin.py:452] Building model Docker image with model data from /tmp/clipper/tmpjr5_iq_l\n",
      "18-07-06:19:54:50 INFO     [clipper_admin.py:456] {'stream': 'Step 1/3 : FROM clipper/python36-closure-container:develop'}\n",
      "18-07-06:19:54:50 INFO     [clipper_admin.py:456] {'stream': '\\n'}\n",
      "18-07-06:19:54:50 INFO     [clipper_admin.py:456] {'stream': ' ---> 8a50905462bc\\n'}\n",
      "18-07-06:19:54:50 INFO     [clipper_admin.py:456] {'stream': 'Step 2/3 : COPY /tmp/clipper/tmpjr5_iq_l /model/'}\n",
      "18-07-06:19:54:50 INFO     [clipper_admin.py:456] {'stream': '\\n'}\n",
      "18-07-06:19:54:50 INFO     [clipper_admin.py:456] {'stream': ' ---> 80ba97d05a3b\\n'}\n",
      "18-07-06:19:54:50 INFO     [clipper_admin.py:456] {'stream': 'Step 3/3 : RUN apt-get -y install build-essential && pip install xgboost'}\n",
      "18-07-06:19:54:50 INFO     [clipper_admin.py:456] {'stream': '\\n'}\n",
      "18-07-06:19:54:50 INFO     [clipper_admin.py:456] {'stream': ' ---> Running in a7cfa4f310dc\\n'}\n",
      "18-07-06:19:54:50 INFO     [clipper_admin.py:456] {'stream': 'Reading package lists...'}\n",
      "18-07-06:19:54:50 INFO     [clipper_admin.py:456] {'stream': '\\n'}\n",
      "18-07-06:19:54:50 INFO     [clipper_admin.py:456] {'stream': 'Building dependency tree...'}\n",
      "18-07-06:19:54:50 INFO     [clipper_admin.py:456] {'stream': '\\nReading state information...'}\n",
      "18-07-06:19:54:50 INFO     [clipper_admin.py:456] {'stream': '\\n'}\n",
      "18-07-06:19:54:50 INFO     [clipper_admin.py:456] {'stream': 'build-essential is already the newest version (12.3).\\n0 upgraded, 0 newly installed, 0 to remove and 0 not upgraded.\\n'}\n",
      "18-07-06:19:54:50 INFO     [clipper_admin.py:456] {'stream': 'Collecting xgboost\\n'}\n",
      "18-07-06:19:54:50 INFO     [clipper_admin.py:456] {'stream': '  Downloading https://files.pythonhosted.org/packages/76/ec/ffab3d5e20b93a7223f07e9bb0eb5f58570a47931be2a506c35b9b37c773/xgboost-0.72-py2.py3-none-manylinux1_x86_64.whl (17.8MB)\\n'}\n",
      "18-07-06:19:54:50 INFO     [clipper_admin.py:456] {'stream': 'Collecting scipy (from xgboost)\\n'}\n",
      "18-07-06:19:54:50 INFO     [clipper_admin.py:456] {'stream': '  Downloading https://files.pythonhosted.org/packages/a8/0b/f163da98d3a01b3e0ef1cab8dd2123c34aee2bafbb1c5bffa354cc8a1730/scipy-1.1.0-cp36-cp36m-manylinux1_x86_64.whl (31.2MB)\\n'}\n",
      "18-07-06:19:54:50 INFO     [clipper_admin.py:456] {'stream': 'Requirement already satisfied: numpy in /usr/local/lib/python3.6/site-packages (from xgboost) (1.14.5)\\n'}\n",
      "18-07-06:19:54:50 INFO     [clipper_admin.py:456] {'stream': 'Installing collected packages: scipy, xgboost\\n'}\n",
      "18-07-06:19:54:50 INFO     [clipper_admin.py:456] {'stream': 'Successfully installed scipy-1.1.0 xgboost-0.72\\n'}\n",
      "18-07-06:19:54:50 INFO     [clipper_admin.py:456] {'stream': ' ---> 8897e4c585cf\\n'}\n",
      "18-07-06:19:54:50 INFO     [clipper_admin.py:456] {'aux': {'ID': 'sha256:8897e4c585cf74608efc94571945ff0c74f40ab911bbbd9bcabf8b339cdf2b57'}}\n",
      "18-07-06:19:54:50 INFO     [clipper_admin.py:456] {'stream': 'Successfully built 8897e4c585cf\\n'}\n",
      "18-07-06:19:54:50 INFO     [clipper_admin.py:456] {'stream': 'Successfully tagged xgboost-model:1\\n'}\n",
      "18-07-06:19:54:50 INFO     [clipper_admin.py:458] Pushing model Docker image to xgboost-model:1\n",
      "18-07-06:19:54:51 INFO     [docker_container_manager.py:257] Found 0 replicas for xgboost-model:1. Adding 1\n",
      "18-07-06:19:54:57 INFO     [clipper_admin.py:635] Successfully registered model xgboost-model:1\n",
      "18-07-06:19:54:57 INFO     [clipper_admin.py:553] Done deploying model xgboost-model:1.\n",
      "18-07-06:19:54:57 INFO     [clipper_admin.py:263] Model xgboost-model is now linked to application xgboost-test\n"
     ]
    }
   ],
   "source": [
    "def get_test_point():\n",
    "    return [np.random.randint(255) for _ in range(7)]\n",
    "# Create a training matrix.\n",
    "dtrain = xgb.DMatrix(get_test_point(), label=[0])\n",
    "# We then create parameters, watchlist, and specify the number of rounds\n",
    "# This is code that we use to build our XGBoost Model, and your code may differ.\n",
    "param = {'max_depth': 2, 'eta': 1, 'silent': 1, 'objective': 'binary:logistic'}\n",
    "watchlist = [(dtrain, 'train')]\n",
    "num_round = 2\n",
    "bst = xgb.train(param, dtrain, num_round, watchlist)\n",
    "def predict(xs):\n",
    "    b = bst.predict(xgb.DMatrix(xs))\n",
    "    print(b)\n",
    "    return b\n",
    "from clipper_admin.deployers import python as python_deployer\n",
    "# We specify which packages to install in the pkgs_to_install arg.\n",
    "# For example, if we wanted to install xgboost and psycopg2, we would use\n",
    "# pkgs_to_install = ['xgboost', 'psycopg2']\n",
    "python_deployer.deploy_python_closure(cl, name='xgboost-model', version=1,\n",
    "     input_type=\"integers\", func=predict, pkgs_to_install=['xgboost'])\n",
    "cl.link_model_to_app('xgboost-test', 'xgboost-model')"
   ]
  },
  {
   "cell_type": "code",
   "execution_count": 21,
   "metadata": {},
   "outputs": [
    {
     "name": "stdout",
     "output_type": "stream",
     "text": [
      "[0]\ttrain-error:0\n",
      "[1]\ttrain-error:0\n"
     ]
    },
    {
     "name": "stderr",
     "output_type": "stream",
     "text": [
      "18-07-06:19:54:57 INFO     [deployer_utils.py:44] Saving function to /tmp/clipper/tmpaz_mwmak\n",
      "18-07-06:19:54:57 INFO     [deployer_utils.py:54] Serialized and supplied predict function\n",
      "18-07-06:19:54:57 INFO     [python.py:192] Python closure saved\n",
      "18-07-06:19:54:57 INFO     [python.py:206] Using Python 3.6 base image\n",
      "18-07-06:19:54:57 INFO     [clipper_admin.py:452] Building model Docker image with model data from /tmp/clipper/tmpaz_mwmak\n",
      "18-07-06:19:55:08 INFO     [clipper_admin.py:456] {'stream': 'Step 1/3 : FROM clipper/python36-closure-container:develop'}\n",
      "18-07-06:19:55:08 INFO     [clipper_admin.py:456] {'stream': '\\n'}\n",
      "18-07-06:19:55:08 INFO     [clipper_admin.py:456] {'stream': ' ---> 8a50905462bc\\n'}\n",
      "18-07-06:19:55:08 INFO     [clipper_admin.py:456] {'stream': 'Step 2/3 : COPY /tmp/clipper/tmpaz_mwmak /model/'}\n",
      "18-07-06:19:55:08 INFO     [clipper_admin.py:456] {'stream': '\\n'}\n",
      "18-07-06:19:55:08 INFO     [clipper_admin.py:456] {'stream': ' ---> c99fe4cc0ea0\\n'}\n",
      "18-07-06:19:55:08 INFO     [clipper_admin.py:456] {'stream': 'Step 3/3 : RUN apt-get -y install build-essential && pip install xgboost'}\n",
      "18-07-06:19:55:08 INFO     [clipper_admin.py:456] {'stream': '\\n'}\n",
      "18-07-06:19:55:08 INFO     [clipper_admin.py:456] {'stream': ' ---> Running in a537ba2d840f\\n'}\n",
      "18-07-06:19:55:08 INFO     [clipper_admin.py:456] {'stream': 'Reading package lists...'}\n",
      "18-07-06:19:55:08 INFO     [clipper_admin.py:456] {'stream': '\\n'}\n",
      "18-07-06:19:55:08 INFO     [clipper_admin.py:456] {'stream': 'Building dependency tree...'}\n",
      "18-07-06:19:55:08 INFO     [clipper_admin.py:456] {'stream': '\\nReading state information...'}\n",
      "18-07-06:19:55:08 INFO     [clipper_admin.py:456] {'stream': '\\n'}\n",
      "18-07-06:19:55:08 INFO     [clipper_admin.py:456] {'stream': 'build-essential is already the newest version (12.3).\\n0 upgraded, 0 newly installed, 0 to remove and 0 not upgraded.\\n'}\n",
      "18-07-06:19:55:08 INFO     [clipper_admin.py:456] {'stream': 'Collecting xgboost\\n'}\n",
      "18-07-06:19:55:08 INFO     [clipper_admin.py:456] {'stream': '  Downloading https://files.pythonhosted.org/packages/76/ec/ffab3d5e20b93a7223f07e9bb0eb5f58570a47931be2a506c35b9b37c773/xgboost-0.72-py2.py3-none-manylinux1_x86_64.whl (17.8MB)\\n'}\n",
      "18-07-06:19:55:08 INFO     [clipper_admin.py:456] {'stream': 'Requirement already satisfied: numpy in /usr/local/lib/python3.6/site-packages (from xgboost) (1.14.5)\\n'}\n",
      "18-07-06:19:55:08 INFO     [clipper_admin.py:456] {'stream': 'Collecting scipy (from xgboost)\\n'}\n",
      "18-07-06:19:55:08 INFO     [clipper_admin.py:456] {'stream': '  Downloading https://files.pythonhosted.org/packages/a8/0b/f163da98d3a01b3e0ef1cab8dd2123c34aee2bafbb1c5bffa354cc8a1730/scipy-1.1.0-cp36-cp36m-manylinux1_x86_64.whl (31.2MB)\\n'}\n",
      "18-07-06:19:55:08 INFO     [clipper_admin.py:456] {'stream': 'Installing collected packages: scipy, xgboost\\n'}\n",
      "18-07-06:19:55:08 INFO     [clipper_admin.py:456] {'stream': 'Successfully installed scipy-1.1.0 xgboost-0.72\\n'}\n",
      "18-07-06:19:55:08 INFO     [clipper_admin.py:456] {'stream': ' ---> 3d735b095f12\\n'}\n",
      "18-07-06:19:55:08 INFO     [clipper_admin.py:456] {'aux': {'ID': 'sha256:3d735b095f12f6b5abe7949d52419c0769cf78fd5bb8b66ec695263091e9f60b'}}\n",
      "18-07-06:19:55:08 INFO     [clipper_admin.py:456] {'stream': 'Successfully built 3d735b095f12\\n'}\n",
      "18-07-06:19:55:08 INFO     [clipper_admin.py:456] {'stream': 'Successfully tagged xgboost-modl:1\\n'}\n",
      "18-07-06:19:55:08 INFO     [clipper_admin.py:458] Pushing model Docker image to xgboost-modl:1\n",
      "18-07-06:19:55:09 INFO     [docker_container_manager.py:257] Found 0 replicas for xgboost-modl:1. Adding 1\n",
      "18-07-06:19:55:16 INFO     [clipper_admin.py:635] Successfully registered model xgboost-modl:1\n",
      "18-07-06:19:55:16 INFO     [clipper_admin.py:553] Done deploying model xgboost-modl:1.\n",
      "18-07-06:19:55:16 INFO     [clipper_admin.py:263] Model xgboost-modl is now linked to application xgboost-test\n"
     ]
    }
   ],
   "source": [
    "bost = xgb.train(param, xgb.DMatrix(get_test_point(), label=[0]), num_round, watchlist)\n",
    "def preict(xs):\n",
    "    a = bost.predict(xgb.DMatrix(xs))\n",
    "    print(a)\n",
    "    return [1 + x for x in a]\n",
    "python_deployer.deploy_python_closure(cl, name='xgboost-modl', version=1,\n",
    "     input_type=\"integers\", func=preict, pkgs_to_install=['xgboost'])\n",
    "cl.link_model_to_app('xgboost-test', 'xgboost-modl')"
   ]
  },
  {
   "cell_type": "code",
   "execution_count": 22,
   "metadata": {
    "scrolled": true
   },
   "outputs": [
    {
     "data": {
      "text/plain": [
       "{'combiner_output': {'combine_error': \"Combine Policy not found. Default used.'\",\n",
       "  'final_prediction': [0.5, 1.5],\n",
       "  'msg': 'return'},\n",
       " 'models_used': [{'id': '1', 'name': 'xgboost-modl'},\n",
       "  {'id': '1', 'name': 'xgboost-model'}],\n",
       " 'query_id': 0}"
      ]
     },
     "execution_count": 22,
     "metadata": {},
     "output_type": "execute_result"
    }
   ],
   "source": [
    "import requests, json\n",
    "# Get Address\n",
    "addr = cl.get_query_addr()\n",
    "# Post Query\n",
    "response = requests.post(\n",
    "     \"http://%s/%s/predict\" % (addr, 'xgboost-test'),\n",
    "     headers={\"Content-type\": \"application/json\"},\n",
    "     data=json.dumps({\n",
    "         'input': get_test_point()\n",
    "     }))\n",
    "result = response.json()\n",
    "result"
   ]
  },
  {
   "cell_type": "code",
   "execution_count": 23,
   "metadata": {},
   "outputs": [
    {
     "name": "stdout",
     "output_type": "stream",
     "text": [
      "{\n",
      "    \"query_id\": 0,\n",
      "    \"combiner_output\": {\n",
      "        \"msg\": \"return\",\n",
      "        \"combine_error\": \"Combine Policy not found. Default used.'\",\n",
      "        \"final_prediction\": [\n",
      "            0.5,\n",
      "            1.5\n",
      "        ]\n",
      "    },\n",
      "    \"models_used\": [\n",
      "        {\n",
      "            \"name\": \"xgboost-modl\",\n",
      "            \"id\": \"1\"\n",
      "        },\n",
      "        {\n",
      "            \"name\": \"xgboost-model\",\n",
      "            \"id\": \"1\"\n",
      "        }\n",
      "    ]\n",
      "}\n"
     ]
    }
   ],
   "source": [
    "print(json.dumps(result, indent=4))"
   ]
  },
  {
   "cell_type": "code",
   "execution_count": 24,
   "metadata": {},
   "outputs": [
    {
     "name": "stderr",
     "output_type": "stream",
     "text": [
      "18-07-06:19:57:00 INFO     [clipper_admin.py:1258] Stopped all Clipper cluster and all model containers\n"
     ]
    }
   ],
   "source": [
    "cl.stop_all()"
   ]
  },
  {
   "cell_type": "code",
   "execution_count": null,
   "metadata": {
    "collapsed": true
   },
   "outputs": [],
   "source": []
  }
 ],
 "metadata": {
  "kernelspec": {
   "display_name": "Python 3",
   "language": "python",
   "name": "python3"
  },
  "language_info": {
   "codemirror_mode": {
    "name": "ipython",
    "version": 3
   },
   "file_extension": ".py",
   "mimetype": "text/x-python",
   "name": "python",
   "nbconvert_exporter": "python",
   "pygments_lexer": "ipython3",
   "version": "3.6.1"
  }
 },
 "nbformat": 4,
 "nbformat_minor": 2
}
