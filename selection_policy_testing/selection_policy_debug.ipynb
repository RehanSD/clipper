{
 "cells": [
  {
   "cell_type": "code",
   "execution_count": 351,
   "metadata": {},
   "outputs": [
    {
     "name": "stderr",
     "output_type": "stream",
     "text": [
      "18-07-05:11:04:11 INFO     [docker_container_manager.py:119] Starting managed Redis instance in Docker\n",
      "18-07-05:11:04:15 INFO     [clipper_admin.py:126] Clipper is running\n",
      "18-07-05:11:04:15 INFO     [clipper_admin.py:201] Application xgboost-test was successfully registered\n"
     ]
    }
   ],
   "source": [
    "import logging, xgboost as xgb, numpy as np\n",
    "from clipper_admin import ClipperConnection, DockerContainerManager\n",
    "cl = ClipperConnection(DockerContainerManager())\n",
    "cl.start_clipper()\n",
    "# We will register it to deploy an xgboost model.\n",
    "cl.register_application('xgboost-test', 'integers', 'default_pred', 10000000)"
   ]
  },
  {
   "cell_type": "code",
   "execution_count": 352,
   "metadata": {},
   "outputs": [
    {
     "name": "stdout",
     "output_type": "stream",
     "text": [
      "[0]\ttrain-error:0\n",
      "[1]\ttrain-error:0\n"
     ]
    },
    {
     "name": "stderr",
     "output_type": "stream",
     "text": [
      "18-07-05:11:04:15 INFO     [deployer_utils.py:44] Saving function to /tmp/clipper/tmprz79rv33\n",
      "18-07-05:11:04:15 INFO     [deployer_utils.py:54] Serialized and supplied predict function\n",
      "18-07-05:11:04:15 INFO     [python.py:192] Python closure saved\n",
      "18-07-05:11:04:15 INFO     [python.py:206] Using Python 3.6 base image\n",
      "18-07-05:11:04:15 INFO     [clipper_admin.py:452] Building model Docker image with model data from /tmp/clipper/tmprz79rv33\n",
      "18-07-05:11:04:26 INFO     [clipper_admin.py:456] {'stream': 'Step 1/3 : FROM clipper/python36-closure-container:develop'}\n",
      "18-07-05:11:04:26 INFO     [clipper_admin.py:456] {'stream': '\\n'}\n",
      "18-07-05:11:04:26 INFO     [clipper_admin.py:456] {'stream': ' ---> c07bf98a22ab\\n'}\n",
      "18-07-05:11:04:26 INFO     [clipper_admin.py:456] {'stream': 'Step 2/3 : COPY /tmp/clipper/tmprz79rv33 /model/'}\n",
      "18-07-05:11:04:26 INFO     [clipper_admin.py:456] {'stream': '\\n'}\n",
      "18-07-05:11:04:26 INFO     [clipper_admin.py:456] {'stream': ' ---> 69d7ca1084fc\\n'}\n",
      "18-07-05:11:04:26 INFO     [clipper_admin.py:456] {'stream': 'Step 3/3 : RUN apt-get -y install build-essential && pip install xgboost'}\n",
      "18-07-05:11:04:26 INFO     [clipper_admin.py:456] {'stream': '\\n'}\n",
      "18-07-05:11:04:26 INFO     [clipper_admin.py:456] {'stream': ' ---> Running in afec5132899b\\n'}\n",
      "18-07-05:11:04:26 INFO     [clipper_admin.py:456] {'stream': 'Reading package lists...'}\n",
      "18-07-05:11:04:26 INFO     [clipper_admin.py:456] {'stream': '\\n'}\n",
      "18-07-05:11:04:26 INFO     [clipper_admin.py:456] {'stream': 'Building dependency tree...'}\n",
      "18-07-05:11:04:26 INFO     [clipper_admin.py:456] {'stream': '\\nReading state information...'}\n",
      "18-07-05:11:04:26 INFO     [clipper_admin.py:456] {'stream': '\\n'}\n",
      "18-07-05:11:04:26 INFO     [clipper_admin.py:456] {'stream': 'build-essential is already the newest version (12.3).\\n0 upgraded, 0 newly installed, 0 to remove and 0 not upgraded.\\n'}\n",
      "18-07-05:11:04:26 INFO     [clipper_admin.py:456] {'stream': 'Collecting xgboost\\n'}\n",
      "18-07-05:11:04:26 INFO     [clipper_admin.py:456] {'stream': '  Downloading https://files.pythonhosted.org/packages/76/ec/ffab3d5e20b93a7223f07e9bb0eb5f58570a47931be2a506c35b9b37c773/xgboost-0.72-py2.py3-none-manylinux1_x86_64.whl (17.8MB)\\n'}\n",
      "18-07-05:11:04:26 INFO     [clipper_admin.py:456] {'stream': 'Requirement already satisfied: numpy in /usr/local/lib/python3.6/site-packages (from xgboost) (1.14.5)\\n'}\n",
      "18-07-05:11:04:26 INFO     [clipper_admin.py:456] {'stream': 'Collecting scipy (from xgboost)\\n'}\n",
      "18-07-05:11:04:26 INFO     [clipper_admin.py:456] {'stream': '  Downloading https://files.pythonhosted.org/packages/a8/0b/f163da98d3a01b3e0ef1cab8dd2123c34aee2bafbb1c5bffa354cc8a1730/scipy-1.1.0-cp36-cp36m-manylinux1_x86_64.whl (31.2MB)\\n'}\n",
      "18-07-05:11:04:26 INFO     [clipper_admin.py:456] {'stream': 'Installing collected packages: scipy, xgboost\\n'}\n",
      "18-07-05:11:04:26 INFO     [clipper_admin.py:456] {'stream': 'Successfully installed scipy-1.1.0 xgboost-0.72\\n'}\n",
      "18-07-05:11:04:26 INFO     [clipper_admin.py:456] {'stream': ' ---> 51ee393fe971\\n'}\n",
      "18-07-05:11:04:26 INFO     [clipper_admin.py:456] {'aux': {'ID': 'sha256:51ee393fe971addd710b6bb81a6a5547bb1bf96a70b06418832f998e5f85bafe'}}\n",
      "18-07-05:11:04:26 INFO     [clipper_admin.py:456] {'stream': 'Successfully built 51ee393fe971\\n'}\n",
      "18-07-05:11:04:26 INFO     [clipper_admin.py:456] {'stream': 'Successfully tagged xgboost-model:1\\n'}\n",
      "18-07-05:11:04:26 INFO     [clipper_admin.py:458] Pushing model Docker image to xgboost-model:1\n",
      "18-07-05:11:04:27 INFO     [docker_container_manager.py:257] Found 0 replicas for xgboost-model:1. Adding 1\n",
      "18-07-05:11:04:34 INFO     [clipper_admin.py:635] Successfully registered model xgboost-model:1\n",
      "18-07-05:11:04:34 INFO     [clipper_admin.py:553] Done deploying model xgboost-model:1.\n",
      "18-07-05:11:04:34 INFO     [clipper_admin.py:263] Model xgboost-model is now linked to application xgboost-test\n"
     ]
    },
    {
     "data": {
      "application/javascript": [
       "$(document).ready(\n",
       "    function() {\n",
       "        function appendUniqueDiv(){\n",
       "            // append a div with our uuid so we can check that it's already\n",
       "            // been sent and avoid duplicates on page reload\n",
       "            var notifiedDiv = document.createElement(\"div\")\n",
       "            notifiedDiv.id = \"b60b3dfc-d9d3-49e0-bbe8-210ff2a1ee4a\"\n",
       "            element.append(notifiedDiv)\n",
       "        }\n",
       "\n",
       "        // only send notifications if the pageload is complete; this will\n",
       "        // help stop extra notifications when a saved notebook is loaded,\n",
       "        // which during testing gives us state \"interactive\", not \"complete\"\n",
       "        if (document.readyState === 'complete') {\n",
       "            // check for the div that signifies that the notification\n",
       "            // was already sent\n",
       "            if (document.getElementById(\"b60b3dfc-d9d3-49e0-bbe8-210ff2a1ee4a\") === null) {\n",
       "                var notificationPayload = {\"requireInteraction\": false, \"icon\": \"/static/base/images/favicon.ico\", \"body\": \"Cell execution has finished!\"};\n",
       "                if (Notification.permission !== 'denied') {\n",
       "                    if (Notification.permission !== 'granted') { \n",
       "                        Notification.requestPermission(function (permission) {\n",
       "                            if(!('permission' in Notification)) {\n",
       "                                Notification.permission = permission\n",
       "                            }\n",
       "                        })\n",
       "                    }\n",
       "                    if (Notification.permission === 'granted') {\n",
       "                    var notification = new Notification(\"Jupyter Notebook\", notificationPayload)\n",
       "                    appendUniqueDiv()\n",
       "                    notification.onclick = function () {\n",
       "                        window.focus();\n",
       "                        this.close();\n",
       "                        };\n",
       "                    } \n",
       "                }     \n",
       "            }\n",
       "        }\n",
       "    }\n",
       ")\n"
      ],
      "text/plain": [
       "<IPython.core.display.Javascript object>"
      ]
     },
     "metadata": {},
     "output_type": "display_data"
    }
   ],
   "source": [
    "%%notify\n",
    "def get_test_point():\n",
    "    return [np.random.randint(255) for _ in range(7)]\n",
    "# Create a training matrix.\n",
    "dtrain = xgb.DMatrix(get_test_point(), label=[0])\n",
    "# We then create parameters, watchlist, and specify the number of rounds\n",
    "# This is code that we use to build our XGBoost Model, and your code may differ.\n",
    "param = {'max_depth': 2, 'eta': 1, 'silent': 1, 'objective': 'binary:logistic'}\n",
    "watchlist = [(dtrain, 'train')]\n",
    "num_round = 2\n",
    "bst = xgb.train(param, dtrain, num_round, watchlist)\n",
    "def predict(xs):\n",
    "    return bst.predict(xgb.DMatrix(xs))\n",
    "from clipper_admin.deployers import python as python_deployer\n",
    "# We specify which packages to install in the pkgs_to_install arg.\n",
    "# For example, if we wanted to install xgboost and psycopg2, we would use\n",
    "# pkgs_to_install = ['xgboost', 'psycopg2']\n",
    "python_deployer.deploy_python_closure(cl, name='xgboost-model', version=1,\n",
    "     input_type=\"integers\", func=predict, pkgs_to_install=['xgboost'])\n",
    "cl.link_model_to_app('xgboost-test', 'xgboost-model')"
   ]
  },
  {
   "cell_type": "code",
   "execution_count": 361,
   "metadata": {
    "scrolled": true
   },
   "outputs": [
    {
     "data": {
      "text/plain": [
       "{'combiner_output': {'final_pred': [0.5], 'msg': 'return'}, 'query_id': 8}"
      ]
     },
     "execution_count": 361,
     "metadata": {},
     "output_type": "execute_result"
    }
   ],
   "source": [
    "import requests, json\n",
    "# Get Address\n",
    "addr = cl.get_query_addr()\n",
    "# Post Query\n",
    "response = requests.post(\n",
    "     \"http://%s/%s/predict\" % (addr, 'xgboost-test'),\n",
    "     headers={\"Content-type\": \"application/json\"},\n",
    "     data=json.dumps({\n",
    "         'input': get_test_point()\n",
    "     }))\n",
    "result = response.json()\n",
    "result"
   ]
  },
  {
   "cell_type": "code",
   "execution_count": 362,
   "metadata": {},
   "outputs": [
    {
     "name": "stderr",
     "output_type": "stream",
     "text": [
      "18-07-05:11:06:31 INFO     [clipper_admin.py:1258] Stopped all Clipper cluster and all model containers\n"
     ]
    }
   ],
   "source": [
    "cl.stop_all()"
   ]
  },
  {
   "cell_type": "code",
   "execution_count": null,
   "metadata": {
    "collapsed": true
   },
   "outputs": [],
   "source": []
  }
 ],
 "metadata": {
  "kernelspec": {
   "display_name": "Python 3",
   "language": "python",
   "name": "python3"
  },
  "language_info": {
   "codemirror_mode": {
    "name": "ipython",
    "version": 3
   },
   "file_extension": ".py",
   "mimetype": "text/x-python",
   "name": "python",
   "nbconvert_exporter": "python",
   "pygments_lexer": "ipython3",
   "version": "3.6.1"
  }
 },
 "nbformat": 4,
 "nbformat_minor": 2
}
